{
 "cells": [
  {
   "cell_type": "markdown",
   "metadata": {},
   "source": [
    "### Implementing simple Chatbot Using LangGraph"
   ]
  },
  {
   "cell_type": "code",
   "execution_count": null,
   "metadata": {},
   "outputs": [],
   "source": [
    "from typing_extensions import TypedDict\n",
    "\n",
    "from langgraph.graph import StateGraph, START, END\n",
    "\n",
    "## Reducers\n",
    "from typing import Annotated\n",
    "from langgraph.graph.message import add_messages"
   ]
  },
  {
   "cell_type": "code",
   "execution_count": null,
   "metadata": {},
   "outputs": [],
   "source": [
    "class State(TypedDict):\n",
    "    messages:Annotated[list,add_messages]"
   ]
  },
  {
   "cell_type": "code",
   "execution_count": null,
   "metadata": {},
   "outputs": [],
   "source": [
    "import os\n",
    "from dotenv import load_dotenv\n",
    "load_dotenv()\n",
    "\n",
    "chat_gpt_api_key = os.getenv(\"CHAT_GPT_API_KEY\")\n",
    "groq_api_key = os.getenv(\"GROQ\")\n",
    "\n",
    "if chat_gpt_api_key is not None:\n",
    "\tos.environ[\"CHAT_GPT_API_KEY\"] = chat_gpt_api_key\n",
    "else:\n",
    "\tprint(\"Warning: CHAT_GPT_API_KEY is not set in the environment or .env file.\")\n",
    "\n",
    "if groq_api_key is not None:\n",
    "\tos.environ[\"GROQ_API_KEY\"] = groq_api_key\n",
    "else:\n",
    "\tprint(\"Warning: GROQ_API_KEY is not set in the environment or .env file.\")\n"
   ]
  },
  {
   "cell_type": "code",
   "execution_count": null,
   "metadata": {},
   "outputs": [],
   "source": [
    "import os\n",
    "os.environ[\"OPENAI_API_KEY\"] = chat_gpt_api_key\n",
    "\n",
    "from langchain_openai import ChatOpenAI\n",
    "llm = ChatOpenAI()\n",
    "llm.invoke(\"Hello\")"
   ]
  },
  {
   "cell_type": "code",
   "execution_count": null,
   "metadata": {},
   "outputs": [],
   "source": [
    "from langchain_groq import ChatGroq\n",
    "\n",
    "llm_groq=ChatGroq(model=\"qwen-qwq-32b\")\n",
    "llm_groq.invoke(\"Hey I am Krish and i like to play cricket\")"
   ]
  },
  {
   "cell_type": "markdown",
   "metadata": {},
   "source": [
    "### We Will start With Creating Nodes"
   ]
  },
  {
   "cell_type": "code",
   "execution_count": null,
   "metadata": {},
   "outputs": [],
   "source": [
    "def superbot(state:State):\n",
    "    return {\"messages\":[llm_groq.invoke(state['messages'])]}"
   ]
  },
  {
   "cell_type": "code",
   "execution_count": null,
   "metadata": {},
   "outputs": [],
   "source": [
    "graph=StateGraph(State)\n",
    "\n",
    "## node\n",
    "graph.add_node(\"SuperBot\",superbot)\n",
    "## Edges\n",
    "\n",
    "graph.add_edge(START,\"SuperBot\")\n",
    "graph.add_edge(\"SuperBot\",END)\n",
    "\n",
    "\n",
    "graph_builder=graph.compile()\n",
    "\n",
    "\n",
    "## Display\n",
    "from IPython.display import Image, display\n",
    "display(Image(graph_builder.get_graph().draw_mermaid_png()))"
   ]
  },
  {
   "cell_type": "code",
   "execution_count": null,
   "metadata": {},
   "outputs": [],
   "source": [
    "## Invocation\n",
    "\n",
    "graph_builder.invoke({'messages':\"Hi,My name is Krish And I like cricket\"})"
   ]
  },
  {
   "cell_type": "markdown",
   "metadata": {},
   "source": [
    "#### Streaming The responses"
   ]
  },
  {
   "cell_type": "code",
   "execution_count": null,
   "metadata": {},
   "outputs": [],
   "source": [
    "for event in graph_builder.stream({\"messages\":\"Hello My name is KRish\"}):\n",
    "    print(event)"
   ]
  },
  {
   "cell_type": "code",
   "execution_count": null,
   "metadata": {},
   "outputs": [],
   "source": []
  }
 ],
 "metadata": {
  "kernelspec": {
   "display_name": "Python 3",
   "language": "python",
   "name": "python3"
  },
  "language_info": {
   "codemirror_mode": {
    "name": "ipython",
    "version": 3
   },
   "file_extension": ".py",
   "mimetype": "text/x-python",
   "name": "python",
   "nbconvert_exporter": "python",
   "pygments_lexer": "ipython3",
   "version": "3.10.0"
  }
 },
 "nbformat": 4,
 "nbformat_minor": 2
}
